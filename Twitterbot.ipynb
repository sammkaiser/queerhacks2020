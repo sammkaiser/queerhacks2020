{
  "nbformat": 4,
  "nbformat_minor": 0,
  "metadata": {
    "colab": {
      "name": "Twitterbot.ipynb",
      "provenance": [],
      "collapsed_sections": [],
      "include_colab_link": true
    },
    "kernelspec": {
      "name": "python3",
      "display_name": "Python 3"
    }
  },
  "cells": [
    {
      "cell_type": "markdown",
      "metadata": {
        "id": "view-in-github",
        "colab_type": "text"
      },
      "source": [
        "<a href=\"https://colab.research.google.com/github/sammkaiser/queerhacks2020/blob/main/Twitterbot.ipynb\" target=\"_parent\"><img src=\"https://colab.research.google.com/assets/colab-badge.svg\" alt=\"Open In Colab\"/></a>"
      ]
    },
    {
      "cell_type": "code",
      "metadata": {
        "id": "FQ4AOafEHHlV"
      },
      "source": [
        "#!pip install giphy_client "
      ],
      "execution_count": null,
      "outputs": []
    },
    {
      "cell_type": "code",
      "metadata": {
        "id": "HfrSv0nDa4eH"
      },
      "source": [
        "#import\n",
        "import tweepy\n",
        "#import json\n",
        "#import time\n",
        "#import giphy_client\n",
        "#from giphy_client.rest import ApiException\n",
        "#from pprint import pprint\n",
        "import os\n"
      ],
      "execution_count": null,
      "outputs": []
    },
    {
      "cell_type": "code",
      "metadata": {
        "id": "uMrlRNAjbkFZ"
      },
      "source": [
        "# Authenticate to Twitter\n",
        "# Configure Environment variables in bash to put in the tokens\n",
        "auth = tweepy.OAuthHandler('consumer_key', \"consumer_secret\")\n",
        "auth.set_access_token('key', 'secret')\n",
        "\n",
        "myID = 1663802190"
      ],
      "execution_count": null,
      "outputs": []
    },
    {
      "cell_type": "code",
      "metadata": {
        "id": "ZA9-ptA4a7MG"
      },
      "source": [
        "# Create API object *with rate limit protection\n",
        "api = tweepy.API(auth, wait_on_rate_limit=True, \n",
        "        wait_on_rate_limit_notify=True)"
      ],
      "execution_count": null,
      "outputs": []
    },
    {
      "cell_type": "code",
      "metadata": {
        "id": "iGmufIWkIYwf",
        "colab": {
          "base_uri": "https://localhost:8080/",
          "height": 345
        },
        "outputId": "ee93d4c7-c1bd-4f6c-f51e-999229c02408"
      },
      "source": [
        "# create stream listener class\n",
        "class MyStreamListener(tweepy.StreamListener):\n",
        "     def __init__(self, api):\n",
        "        self.api = api\n",
        "        self.me = api.me()\n",
        "\n",
        "     def on_status(self, tweet): #when filter criteria is met, it calls this\n",
        "        print(tweet.text)\n",
        "       \n",
        "        #api_instance = giphy_client.DefaultApi()\n",
        "        #api_key = 'dc6zaTOxFJmzC' # str | Giphy API Key.\n",
        "        #q = 'athlete empowerment' # str | Search query term or prhase.\n",
        "        #limit = 25 # int | The maximum number of records to return. (optional) (default to 25)\n",
        "        #offset = 0 # int | An optional results offset. Defaults to 0. (optional) (default to 0)\n",
        "        #rating = 'g' # str | Filters results by specified rating. (optional)\n",
        "        #lang = 'en' # str | Specify default country for regional content; use a 2-letter ISO 639-1 country code. See list of supported languages <a href = \\\"../language-support\\\">here</a>. (optional)\n",
        "        #fmt = 'json' # str | Used to indicate the expected response format. Default is Json. (optional) (default to json)\n",
        "\n",
        "        #try: \n",
        "            # Search Endpoint\n",
        "            #api_response = api_instance.gifs_search_get(api_key, q, limit=limit, offset=offset, rating=rating, lang=lang, fmt=fmt)\n",
        "            #pprint(\"length: \" +  str(len(api_response.data)))\n",
        "          \n",
        "            #pprint(\"random: \" + str( math.floor( random.random()*float(len(api_response.data)))  ))\n",
        "\n",
        "            #a = math.floor( random.random()*float(len(api_response.data)))\n",
        "            #api_response.data[a].bitly_gif_url\n",
        "            \n",
        "        if not tweet.user.id == myID:\n",
        "            status = \"@\" + tweet.user.screen_name + \" Hi! Have you heard that women athletes are being barred from their sports in Idaho? Sign the petition to get our girls back in the gym here: https://tinyurl.com/athleteallypetition https://gph.is/2uJHEsG\"  \n",
        "            api.update_status (\n",
        "                status=status,\n",
        "                in_reply_to_status_id=tweet.id\n",
        "            )\n",
        "\n",
        "        #except ApiException as e:\n",
        "            #print(\"Exception when calling DefaultApi->gifs_search_get: %s\\n\" % e)\n",
        "\n",
        "            #if not tweet.user.id == myID:\n",
        "              #status = \"@\" + tweet.user.screen_name + \" Hi! Have you heard that women athletes are being barred from their sports in Idaho? Sign the petition to get our girls back in the gym here: https://tinyurl.com/athleteallypetition\"\n",
        "              #api.update_status (\n",
        "                  #status=status,\n",
        "                  #in_reply_to_status_id=tweet.id\n",
        "              #)\n",
        "\n",
        "\n",
        "        #do stuff here\n",
        "        \n",
        "\n",
        "     def on_error(self, status_code):\n",
        "        if status_code == 420:\n",
        "            #returning False in on_error disconnects the stream, returning non-False reconnects the stream, with backoff.\n",
        "            return False        \n",
        "\n",
        "#create instance of stream\n",
        "myStreamListener = MyStreamListener(api)\n",
        "myStream = tweepy.Stream(auth = api.auth, listener=myStreamListener)\n",
        "myStream.filter(track=[\"female athlete\"],languages=[\"en\"]) #can add more, comma separated list is ors, space is ands\n"
      ],
      "execution_count": null,
      "outputs": [
        {
          "output_type": "error",
          "ename": "KeyboardInterrupt",
          "evalue": "ignored",
          "traceback": [
            "\u001b[0;31m---------------------------------------------------------------------------\u001b[0m",
            "\u001b[0;31mKeyboardInterrupt\u001b[0m                         Traceback (most recent call last)",
            "\u001b[0;32m<ipython-input-17-09eb55e0b37a>\u001b[0m in \u001b[0;36m<module>\u001b[0;34m()\u001b[0m\n\u001b[1;32m     56\u001b[0m \u001b[0mmyStreamListener\u001b[0m \u001b[0;34m=\u001b[0m \u001b[0mMyStreamListener\u001b[0m\u001b[0;34m(\u001b[0m\u001b[0mapi\u001b[0m\u001b[0;34m)\u001b[0m\u001b[0;34m\u001b[0m\u001b[0;34m\u001b[0m\u001b[0m\n\u001b[1;32m     57\u001b[0m \u001b[0mmyStream\u001b[0m \u001b[0;34m=\u001b[0m \u001b[0mtweepy\u001b[0m\u001b[0;34m.\u001b[0m\u001b[0mStream\u001b[0m\u001b[0;34m(\u001b[0m\u001b[0mauth\u001b[0m \u001b[0;34m=\u001b[0m \u001b[0mapi\u001b[0m\u001b[0;34m.\u001b[0m\u001b[0mauth\u001b[0m\u001b[0;34m,\u001b[0m \u001b[0mlistener\u001b[0m\u001b[0;34m=\u001b[0m\u001b[0mmyStreamListener\u001b[0m\u001b[0;34m)\u001b[0m\u001b[0;34m\u001b[0m\u001b[0;34m\u001b[0m\u001b[0m\n\u001b[0;32m---> 58\u001b[0;31m \u001b[0mmyStream\u001b[0m\u001b[0;34m.\u001b[0m\u001b[0mfilter\u001b[0m\u001b[0;34m(\u001b[0m\u001b[0mtrack\u001b[0m\u001b[0;34m=\u001b[0m\u001b[0;34m[\u001b[0m\u001b[0;34m\"kramig\"\u001b[0m\u001b[0;34m]\u001b[0m\u001b[0;34m,\u001b[0m\u001b[0mlanguages\u001b[0m\u001b[0;34m=\u001b[0m\u001b[0;34m[\u001b[0m\u001b[0;34m\"en\"\u001b[0m\u001b[0;34m]\u001b[0m\u001b[0;34m)\u001b[0m \u001b[0;31m#can add more, comma separated list is ors, space is ands\u001b[0m\u001b[0;34m\u001b[0m\u001b[0;34m\u001b[0m\u001b[0m\n\u001b[0m",
            "\u001b[0;32m/usr/local/lib/python3.6/dist-packages/tweepy/streaming.py\u001b[0m in \u001b[0;36mfilter\u001b[0;34m(self, follow, track, async, locations, stall_warnings, languages, encoding, filter_level)\u001b[0m\n\u001b[1;32m    448\u001b[0m         \u001b[0mself\u001b[0m\u001b[0;34m.\u001b[0m\u001b[0msession\u001b[0m\u001b[0;34m.\u001b[0m\u001b[0mparams\u001b[0m \u001b[0;34m=\u001b[0m \u001b[0;34m{\u001b[0m\u001b[0;34m'delimited'\u001b[0m\u001b[0;34m:\u001b[0m \u001b[0;34m'length'\u001b[0m\u001b[0;34m}\u001b[0m\u001b[0;34m\u001b[0m\u001b[0;34m\u001b[0m\u001b[0m\n\u001b[1;32m    449\u001b[0m         \u001b[0mself\u001b[0m\u001b[0;34m.\u001b[0m\u001b[0mhost\u001b[0m \u001b[0;34m=\u001b[0m \u001b[0;34m'stream.twitter.com'\u001b[0m\u001b[0;34m\u001b[0m\u001b[0;34m\u001b[0m\u001b[0m\n\u001b[0;32m--> 450\u001b[0;31m         \u001b[0mself\u001b[0m\u001b[0;34m.\u001b[0m\u001b[0m_start\u001b[0m\u001b[0;34m(\u001b[0m\u001b[0masync\u001b[0m\u001b[0;34m)\u001b[0m\u001b[0;34m\u001b[0m\u001b[0;34m\u001b[0m\u001b[0m\n\u001b[0m\u001b[1;32m    451\u001b[0m \u001b[0;34m\u001b[0m\u001b[0m\n\u001b[1;32m    452\u001b[0m     def sitestream(self, follow, stall_warnings=False,\n",
            "\u001b[0;32m/usr/local/lib/python3.6/dist-packages/tweepy/streaming.py\u001b[0m in \u001b[0;36m_start\u001b[0;34m(self, async)\u001b[0m\n\u001b[1;32m    362\u001b[0m             \u001b[0mself\u001b[0m\u001b[0;34m.\u001b[0m\u001b[0m_thread\u001b[0m\u001b[0;34m.\u001b[0m\u001b[0mstart\u001b[0m\u001b[0;34m(\u001b[0m\u001b[0;34m)\u001b[0m\u001b[0;34m\u001b[0m\u001b[0;34m\u001b[0m\u001b[0m\n\u001b[1;32m    363\u001b[0m         \u001b[0;32melse\u001b[0m\u001b[0;34m:\u001b[0m\u001b[0;34m\u001b[0m\u001b[0;34m\u001b[0m\u001b[0m\n\u001b[0;32m--> 364\u001b[0;31m             \u001b[0mself\u001b[0m\u001b[0;34m.\u001b[0m\u001b[0m_run\u001b[0m\u001b[0;34m(\u001b[0m\u001b[0;34m)\u001b[0m\u001b[0;34m\u001b[0m\u001b[0;34m\u001b[0m\u001b[0m\n\u001b[0m\u001b[1;32m    365\u001b[0m \u001b[0;34m\u001b[0m\u001b[0m\n\u001b[1;32m    366\u001b[0m     \u001b[0;32mdef\u001b[0m \u001b[0mon_closed\u001b[0m\u001b[0;34m(\u001b[0m\u001b[0mself\u001b[0m\u001b[0;34m,\u001b[0m \u001b[0mresp\u001b[0m\u001b[0;34m)\u001b[0m\u001b[0;34m:\u001b[0m\u001b[0;34m\u001b[0m\u001b[0;34m\u001b[0m\u001b[0m\n",
            "\u001b[0;32m/usr/local/lib/python3.6/dist-packages/tweepy/streaming.py\u001b[0m in \u001b[0;36m_run\u001b[0;34m(self)\u001b[0m\n\u001b[1;32m    256\u001b[0m                         self.retry_time = max(self.retry_420_start,\n\u001b[1;32m    257\u001b[0m                                               self.retry_time)\n\u001b[0;32m--> 258\u001b[0;31m                     \u001b[0msleep\u001b[0m\u001b[0;34m(\u001b[0m\u001b[0mself\u001b[0m\u001b[0;34m.\u001b[0m\u001b[0mretry_time\u001b[0m\u001b[0;34m)\u001b[0m\u001b[0;34m\u001b[0m\u001b[0;34m\u001b[0m\u001b[0m\n\u001b[0m\u001b[1;32m    259\u001b[0m                     self.retry_time = min(self.retry_time * 2,\n\u001b[1;32m    260\u001b[0m                                           self.retry_time_cap)\n",
            "\u001b[0;31mKeyboardInterrupt\u001b[0m: "
          ]
        }
      ]
    },
    {
      "cell_type": "markdown",
      "metadata": {
        "id": "x451Zf8OHFCc"
      },
      "source": [
        "# New Section"
      ]
    }
  ]
}